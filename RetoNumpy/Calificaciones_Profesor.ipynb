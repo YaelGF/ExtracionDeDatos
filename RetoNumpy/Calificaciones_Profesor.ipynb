{
 "cells": [
  {
   "cell_type": "markdown",
   "id": "d2aa428a",
   "metadata": {},
   "source": [
    "# Calificaciones v1"
   ]
  },
  {
   "cell_type": "markdown",
   "id": "34c3b752",
   "metadata": {},
   "source": [
    "## 1. Importar liberias"
   ]
  },
  {
   "cell_type": "code",
   "execution_count": 81,
   "id": "a6e1b8b1",
   "metadata": {},
   "outputs": [],
   "source": [
    "import csv\n",
    "import numpy as np"
   ]
  },
  {
   "cell_type": "code",
   "execution_count": 82,
   "id": "224c18cb",
   "metadata": {},
   "outputs": [
    {
     "data": {
      "text/plain": [
       "'1.23.3'"
      ]
     },
     "execution_count": 82,
     "metadata": {},
     "output_type": "execute_result"
    }
   ],
   "source": [
    "np.__version__"
   ]
  },
  {
   "cell_type": "markdown",
   "id": "e1d75491",
   "metadata": {},
   "source": [
    "## 2. Abrir el archivo CSV"
   ]
  },
  {
   "cell_type": "code",
   "execution_count": 83,
   "id": "b4e49d15",
   "metadata": {},
   "outputs": [],
   "source": [
    "with open(\"calificaciones_v1.csv\", \"r\") as file:\n",
    "    data = list(csv.reader(file, delimiter=\",\"))"
   ]
  },
  {
   "cell_type": "markdown",
   "id": "e4163466",
   "metadata": {},
   "source": [
    "## 3. Convertir a narray"
   ]
  },
  {
   "cell_type": "code",
   "execution_count": 84,
   "id": "645cda14",
   "metadata": {},
   "outputs": [
    {
     "data": {
      "text/plain": [
       "list"
      ]
     },
     "execution_count": 84,
     "metadata": {},
     "output_type": "execute_result"
    }
   ],
   "source": [
    "type(data)"
   ]
  },
  {
   "cell_type": "code",
   "execution_count": 85,
   "id": "3f8b4904",
   "metadata": {},
   "outputs": [
    {
     "data": {
      "text/plain": [
       "[['matricula', '11111111'],\n",
       " ['nombre', 'Alumno 1'],\n",
       " ['grupo', 'TI11'],\n",
       " ['Materia 1', '1'],\n",
       " ['Materia 2', '8'],\n",
       " ['Materia 3', '1'],\n",
       " ['Materia 4', '7'],\n",
       " ['Materia 5', '2'],\n",
       " ['estado', 'regular'],\n",
       " ['matricula', '11111112'],\n",
       " ['nombre', 'Alumno 2'],\n",
       " ['grupo', 'TI11'],\n",
       " ['Materia 1', '10'],\n",
       " ['Materia 2', '7'],\n",
       " ['Materia 3', '1'],\n",
       " ['Materia 4', '8'],\n",
       " ['Materia 5', '5'],\n",
       " ['estado', 'regular'],\n",
       " ['matricula', '11111113'],\n",
       " ['nombre', 'Alumno 3'],\n",
       " ['grupo', 'TI11'],\n",
       " ['Materia 1', '4'],\n",
       " ['Materia 2', '1'],\n",
       " ['Materia 3', '1'],\n",
       " ['Materia 4', '3'],\n",
       " ['Materia 5', '0'],\n",
       " ['estado', 'regular'],\n",
       " ['matricula', '11111114'],\n",
       " ['nombre', 'Alumno 4'],\n",
       " ['grupo', 'TI11'],\n",
       " ['Materia 1', '5'],\n",
       " ['Materia 2', '4'],\n",
       " ['Materia 3', '3'],\n",
       " ['Materia 4', '2'],\n",
       " ['Materia 5', '7'],\n",
       " ['estado', 'regular'],\n",
       " ['matricula', '11111115'],\n",
       " ['nombre', 'Alumno 5'],\n",
       " ['grupo', 'TI11'],\n",
       " ['Materia 1', '9'],\n",
       " ['Materia 2', '10'],\n",
       " ['Materia 3', '3'],\n",
       " ['Materia 4', '9'],\n",
       " ['Materia 5', '2'],\n",
       " ['estado', 'regular'],\n",
       " ['matricula', '11111116'],\n",
       " ['nombre', 'Alumno 6'],\n",
       " ['grupo', 'TI11'],\n",
       " ['Materia 1', '1'],\n",
       " ['Materia 2', '3'],\n",
       " ['Materia 3', '8'],\n",
       " ['Materia 4', '1'],\n",
       " ['Materia 5', '7'],\n",
       " ['estado', 'regular'],\n",
       " ['matricula', '11111117'],\n",
       " ['nombre', 'Alumno 7'],\n",
       " ['grupo', 'TI11'],\n",
       " ['Materia 1', '4'],\n",
       " ['Materia 2', '7'],\n",
       " ['Materia 3', '1'],\n",
       " ['Materia 4', '6'],\n",
       " ['Materia 5', '5'],\n",
       " ['estado', 'regular'],\n",
       " ['matricula', '11111118'],\n",
       " ['nombre', 'Alumno 8'],\n",
       " ['grupo', 'TI11'],\n",
       " ['Materia 1', '10'],\n",
       " ['Materia 2', '1'],\n",
       " ['Materia 3', '7'],\n",
       " ['Materia 4', '10'],\n",
       " ['Materia 5', '0'],\n",
       " ['estado', 'regular'],\n",
       " ['matricula', '11111119'],\n",
       " ['nombre', 'Alumno 9'],\n",
       " ['grupo', 'TI11'],\n",
       " ['Materia 1', '5'],\n",
       " ['Materia 2', '5'],\n",
       " ['Materia 3', '4'],\n",
       " ['Materia 4', '0'],\n",
       " ['Materia 5', '3'],\n",
       " ['estado', 'regular'],\n",
       " ['matricula', '11111120'],\n",
       " ['nombre', 'Alumno 10'],\n",
       " ['grupo', 'TI11'],\n",
       " ['Materia 1', '5'],\n",
       " ['Materia 2', '7'],\n",
       " ['Materia 3', '3'],\n",
       " ['Materia 4', '3'],\n",
       " ['Materia 5', '4'],\n",
       " ['estado', 'regular'],\n",
       " ['matricula', '11111121'],\n",
       " ['nombre', 'Alumno 11'],\n",
       " ['grupo', 'TI11'],\n",
       " ['Materia 1', '6'],\n",
       " ['Materia 2', '1'],\n",
       " ['Materia 3', '3'],\n",
       " ['Materia 4', '7'],\n",
       " ['Materia 5', '0'],\n",
       " ['estado', 'regular'],\n",
       " ['matricula', '11111122'],\n",
       " ['nombre', 'Alumno 12'],\n",
       " ['grupo', 'TI11'],\n",
       " ['Materia 1', '7'],\n",
       " ['Materia 2', '2'],\n",
       " ['Materia 3', '5'],\n",
       " ['Materia 4', '4'],\n",
       " ['Materia 5', '5'],\n",
       " ['estado', 'regular'],\n",
       " ['matricula', '11111123'],\n",
       " ['nombre', 'Alumno 13'],\n",
       " ['grupo', 'TI12'],\n",
       " ['Materia 1', '5'],\n",
       " ['Materia 2', '2'],\n",
       " ['Materia 3', '3'],\n",
       " ['Materia 4', '0'],\n",
       " ['Materia 5', '1'],\n",
       " ['estado', 'regular'],\n",
       " ['matricula', '11111124'],\n",
       " ['nombre', 'Alumno 14'],\n",
       " ['grupo', 'TI12'],\n",
       " ['Materia 1', '5'],\n",
       " ['Materia 2', '2'],\n",
       " ['Materia 3', '10'],\n",
       " ['Materia 4', '0'],\n",
       " ['Materia 5', '6'],\n",
       " ['estado', 'regular'],\n",
       " ['matricula', '11111125'],\n",
       " ['nombre', 'Alumno 15'],\n",
       " ['grupo', 'TI12'],\n",
       " ['Materia 1', '9'],\n",
       " ['Materia 2', '9'],\n",
       " ['Materia 3', '1'],\n",
       " ['Materia 4', '3'],\n",
       " ['Materia 5', '1'],\n",
       " ['estado', 'regular'],\n",
       " ['matricula', '11111126'],\n",
       " ['nombre', 'Alumno 16'],\n",
       " ['grupo', 'TI12'],\n",
       " ['Materia 1', '1'],\n",
       " ['Materia 2', '2'],\n",
       " ['Materia 3', '1'],\n",
       " ['Materia 4', '7'],\n",
       " ['Materia 5', '7'],\n",
       " ['estado', 'regular'],\n",
       " ['matricula', '11111127'],\n",
       " ['nombre', 'Alumno 17'],\n",
       " ['grupo', 'TI12'],\n",
       " ['Materia 1', '0'],\n",
       " ['Materia 2', '2'],\n",
       " ['Materia 3', '1'],\n",
       " ['Materia 4', '0'],\n",
       " ['Materia 5', '2'],\n",
       " ['estado', 'regular'],\n",
       " ['matricula', '11111128'],\n",
       " ['nombre', 'Alumno 18'],\n",
       " ['grupo', 'TI12'],\n",
       " ['Materia 1', '0'],\n",
       " ['Materia 2', '1'],\n",
       " ['Materia 3', '4'],\n",
       " ['Materia 4', '7'],\n",
       " ['Materia 5', '6'],\n",
       " ['estado', 'regular'],\n",
       " ['matricula', '11111129'],\n",
       " ['nombre', 'Alumno 19'],\n",
       " ['grupo', 'TI12'],\n",
       " ['Materia 1', '0'],\n",
       " ['Materia 2', '8'],\n",
       " ['Materia 3', '7'],\n",
       " ['Materia 4', '8'],\n",
       " ['Materia 5', '2'],\n",
       " ['estado', 'regular'],\n",
       " ['matricula', '11111130'],\n",
       " ['nombre', 'Alumno 20'],\n",
       " ['grupo', 'TI12'],\n",
       " ['Materia 1', '4'],\n",
       " ['Materia 2', '0'],\n",
       " ['Materia 3', '5'],\n",
       " ['Materia 4', '0'],\n",
       " ['Materia 5', '4'],\n",
       " ['estado', 'regular'],\n",
       " ['matricula', '11111131'],\n",
       " ['nombre', 'Alumno 21'],\n",
       " ['grupo', 'TI12'],\n",
       " ['Materia 1', '6'],\n",
       " ['Materia 2', '4'],\n",
       " ['Materia 3', '2'],\n",
       " ['Materia 4', '10'],\n",
       " ['Materia 5', '10'],\n",
       " ['estado', 'regular'],\n",
       " ['matricula', '11111132'],\n",
       " ['nombre', 'Alumno 22'],\n",
       " ['grupo', 'TI12'],\n",
       " ['Materia 1', '5'],\n",
       " ['Materia 2', '6'],\n",
       " ['Materia 3', '9'],\n",
       " ['Materia 4', '0'],\n",
       " ['Materia 5', '3'],\n",
       " ['estado', 'regular'],\n",
       " ['matricula', '11111133'],\n",
       " ['nombre', 'Alumno 23'],\n",
       " ['grupo', 'TI12'],\n",
       " ['Materia 1', '1'],\n",
       " ['Materia 2', '9'],\n",
       " ['Materia 3', '7'],\n",
       " ['Materia 4', '7'],\n",
       " ['Materia 5', '6'],\n",
       " ['estado', 'regular'],\n",
       " ['matricula', '11111134'],\n",
       " ['nombre', 'Alumno 24'],\n",
       " ['grupo', 'TI41'],\n",
       " ['Materia 1', '4'],\n",
       " ['Materia 2', '0'],\n",
       " ['Materia 3', '10'],\n",
       " ['Materia 4', '7'],\n",
       " ['Materia 5', '0'],\n",
       " ['estado', 'regular'],\n",
       " ['matricula', '11111135'],\n",
       " ['nombre', 'Alumno 25'],\n",
       " ['grupo', 'TI41'],\n",
       " ['Materia 1', '3'],\n",
       " ['Materia 2', '3'],\n",
       " ['Materia 3', '0'],\n",
       " ['Materia 4', '8'],\n",
       " ['Materia 5', '5'],\n",
       " ['estado', 'regular'],\n",
       " ['matricula', '11111136'],\n",
       " ['nombre', 'Alumno 26'],\n",
       " ['grupo', 'TI41'],\n",
       " ['Materia 1', '0'],\n",
       " ['Materia 2', '5'],\n",
       " ['Materia 3', '7'],\n",
       " ['Materia 4', '2'],\n",
       " ['Materia 5', '1'],\n",
       " ['estado', 'regular'],\n",
       " ['matricula', '11111137'],\n",
       " ['nombre', 'Alumno 27'],\n",
       " ['grupo', 'TI41'],\n",
       " ['Materia 1', '0'],\n",
       " ['Materia 2', '0'],\n",
       " ['Materia 3', '6'],\n",
       " ['Materia 4', '0'],\n",
       " ['Materia 5', '5'],\n",
       " ['estado', 'regular'],\n",
       " ['matricula', '11111138'],\n",
       " ['nombre', 'Alumno 28'],\n",
       " ['grupo', 'TI41'],\n",
       " ['Materia 1', '9'],\n",
       " ['Materia 2', '3'],\n",
       " ['Materia 3', '10'],\n",
       " ['Materia 4', '9'],\n",
       " ['Materia 5', '6'],\n",
       " ['estado', 'regular'],\n",
       " ['matricula', '11111139'],\n",
       " ['nombre', 'Alumno 29'],\n",
       " ['grupo', 'TI41'],\n",
       " ['Materia 1', '0'],\n",
       " ['Materia 2', '5'],\n",
       " ['Materia 3', '1'],\n",
       " ['Materia 4', '10'],\n",
       " ['Materia 5', '1'],\n",
       " ['estado', 'regular'],\n",
       " ['matricula', '11111140'],\n",
       " ['nombre', 'Alumno 30'],\n",
       " ['grupo', 'TI41'],\n",
       " ['Materia 1', '3'],\n",
       " ['Materia 2', '3'],\n",
       " ['Materia 3', '5'],\n",
       " ['Materia 4', '9'],\n",
       " ['Materia 5', '9'],\n",
       " ['estado', 'regular'],\n",
       " ['matricula', '11111141'],\n",
       " ['nombre', 'Alumno 31'],\n",
       " ['grupo', 'TI41'],\n",
       " ['Materia 1', '10'],\n",
       " ['Materia 2', '10'],\n",
       " ['Materia 3', '4'],\n",
       " ['Materia 4', '1'],\n",
       " ['Materia 5', '4'],\n",
       " ['estado', 'regular'],\n",
       " ['matricula', '11111142'],\n",
       " ['nombre', 'Alumno 32'],\n",
       " ['grupo', 'TI41'],\n",
       " ['Materia 1', '6'],\n",
       " ['Materia 2', '0'],\n",
       " ['Materia 3', '5'],\n",
       " ['Materia 4', '3'],\n",
       " ['Materia 5', '2'],\n",
       " ['estado', 'regular'],\n",
       " ['matricula', '11111143'],\n",
       " ['nombre', 'Alumno 33'],\n",
       " ['grupo', 'IDGS91'],\n",
       " ['Materia 1', '0'],\n",
       " ['Materia 2', '4'],\n",
       " ['Materia 3', '1'],\n",
       " ['Materia 4', '7'],\n",
       " ['Materia 5', '9'],\n",
       " ['estado', 'regular'],\n",
       " ['matricula', '11111144'],\n",
       " ['nombre', 'Alumno 34'],\n",
       " ['grupo', 'IDGS91'],\n",
       " ['Materia 1', '1'],\n",
       " ['Materia 2', '1'],\n",
       " ['Materia 3', '2'],\n",
       " ['Materia 4', '3'],\n",
       " ['Materia 5', '8'],\n",
       " ['estado', 'regular'],\n",
       " ['matricula', '11111145'],\n",
       " ['nombre', 'Alumno 35'],\n",
       " ['grupo', 'IDGS91'],\n",
       " ['Materia 1', '0'],\n",
       " ['Materia 2', '7'],\n",
       " ['Materia 3', '10'],\n",
       " ['Materia 4', '7'],\n",
       " ['Materia 5', '7'],\n",
       " ['estado', 'regular'],\n",
       " ['matricula', '11111146'],\n",
       " ['nombre', 'Alumno 36'],\n",
       " ['grupo', 'IDGS91'],\n",
       " ['Materia 1', '7'],\n",
       " ['Materia 2', '1'],\n",
       " ['Materia 3', '4'],\n",
       " ['Materia 4', '0'],\n",
       " ['Materia 5', '6'],\n",
       " ['estado', 'regular'],\n",
       " ['matricula', '11111147'],\n",
       " ['nombre', 'Alumno 37'],\n",
       " ['grupo', 'IDGS91'],\n",
       " ['Materia 1', '6'],\n",
       " ['Materia 2', '6'],\n",
       " ['Materia 3', '4'],\n",
       " ['Materia 4', '3'],\n",
       " ['Materia 5', '0'],\n",
       " ['estado', 'regular'],\n",
       " ['matricula', '11111148'],\n",
       " ['nombre', 'Alumno 38'],\n",
       " ['grupo', 'IDGS91'],\n",
       " ['Materia 1', '0'],\n",
       " ['Materia 2', '6'],\n",
       " ['Materia 3', '6'],\n",
       " ['Materia 4', '3'],\n",
       " ['Materia 5', '5'],\n",
       " ['estado', 'regular'],\n",
       " ['matricula', '11111149'],\n",
       " ['nombre', 'Alumno 39'],\n",
       " ['grupo', 'IDGS91'],\n",
       " ['Materia 1', '8'],\n",
       " ['Materia 2', '7'],\n",
       " ['Materia 3', '9'],\n",
       " ['Materia 4', '5'],\n",
       " ['Materia 5', '2'],\n",
       " ['estado', 'regular'],\n",
       " ['matricula', '11111150'],\n",
       " ['nombre', 'Alumno 40'],\n",
       " ['grupo', 'IDGS91'],\n",
       " ['Materia 1', '1'],\n",
       " ['Materia 2', '0'],\n",
       " ['Materia 3', '3'],\n",
       " ['Materia 4', '4'],\n",
       " ['Materia 5', '10'],\n",
       " ['estado', 'regular'],\n",
       " ['matricula', '11111151'],\n",
       " ['nombre', 'Alumno 41'],\n",
       " ['grupo', 'IDGS91'],\n",
       " ['Materia 1', '6'],\n",
       " ['Materia 2', '5'],\n",
       " ['Materia 3', '1'],\n",
       " ['Materia 4', '5'],\n",
       " ['Materia 5', '9'],\n",
       " ['estado', 'regular'],\n",
       " ['matricula', '11111152'],\n",
       " ['nombre', 'Alumno 42'],\n",
       " ['grupo', 'IDGS91'],\n",
       " ['Materia 1', '2'],\n",
       " ['Materia 2', '0'],\n",
       " ['Materia 3', '9'],\n",
       " ['Materia 4', '9'],\n",
       " ['Materia 5', '5'],\n",
       " ['estado', 'regular'],\n",
       " ['matricula', '11111153'],\n",
       " ['nombre', 'Alumno 43'],\n",
       " ['grupo', 'IDGS91'],\n",
       " ['Materia 1', '3'],\n",
       " ['Materia 2', '4'],\n",
       " ['Materia 3', '0'],\n",
       " ['Materia 4', '0'],\n",
       " ['Materia 5', '0'],\n",
       " ['estado', 'regular'],\n",
       " ['matricula', '11111154'],\n",
       " ['nombre', 'Alumno 44'],\n",
       " ['grupo', 'IDGS91'],\n",
       " ['Materia 1', '3'],\n",
       " ['Materia 2', '1'],\n",
       " ['Materia 3', '1'],\n",
       " ['Materia 4', '7'],\n",
       " ['Materia 5', '10'],\n",
       " ['estado', 'regular'],\n",
       " ['matricula', '11111155'],\n",
       " ['nombre', 'Alumno 45'],\n",
       " ['grupo', 'IDGS91'],\n",
       " ['Materia 1', '4'],\n",
       " ['Materia 2', '1'],\n",
       " ['Materia 3', '2'],\n",
       " ['Materia 4', '8'],\n",
       " ['Materia 5', '6'],\n",
       " ['estado', 'regular'],\n",
       " ['matricula', '11111156'],\n",
       " ['nombre', 'Alumno 46'],\n",
       " ['grupo', 'IDGS71'],\n",
       " ['Materia 1', '10'],\n",
       " ['Materia 2', '1'],\n",
       " ['Materia 3', '10'],\n",
       " ['Materia 4', '0'],\n",
       " ['Materia 5', '7'],\n",
       " ['estado', 'regular'],\n",
       " ['matricula', '11111157'],\n",
       " ['nombre', 'Alumno 47'],\n",
       " ['grupo', 'IDGS71'],\n",
       " ['Materia 1', '9'],\n",
       " ['Materia 2', '10'],\n",
       " ['Materia 3', '1'],\n",
       " ['Materia 4', '3'],\n",
       " ['Materia 5', '9'],\n",
       " ['estado', 'regular'],\n",
       " ['matricula', '11111158'],\n",
       " ['nombre', 'Alumno 48'],\n",
       " ['grupo', 'IDGS71'],\n",
       " ['Materia 1', '4'],\n",
       " ['Materia 2', '4'],\n",
       " ['Materia 3', '10'],\n",
       " ['Materia 4', '6'],\n",
       " ['Materia 5', '8'],\n",
       " ['estado', 'regular']]"
      ]
     },
     "execution_count": 85,
     "metadata": {},
     "output_type": "execute_result"
    }
   ],
   "source": [
    "data"
   ]
  },
  {
   "cell_type": "code",
   "execution_count": 86,
   "id": "a33bedd7",
   "metadata": {},
   "outputs": [],
   "source": [
    "data = np.array(data)"
   ]
  },
  {
   "cell_type": "code",
   "execution_count": 87,
   "id": "0c7811ff",
   "metadata": {},
   "outputs": [
    {
     "data": {
      "text/plain": [
       "numpy.ndarray"
      ]
     },
     "execution_count": 87,
     "metadata": {},
     "output_type": "execute_result"
    }
   ],
   "source": [
    "type(data)"
   ]
  },
  {
   "cell_type": "code",
   "execution_count": 88,
   "id": "b2d4b416",
   "metadata": {},
   "outputs": [
    {
     "data": {
      "text/plain": [
       "array([['matricula', '11111111'],\n",
       "       ['nombre', 'Alumno 1'],\n",
       "       ['grupo', 'TI11'],\n",
       "       ['Materia 1', '1'],\n",
       "       ['Materia 2', '8'],\n",
       "       ['Materia 3', '1'],\n",
       "       ['Materia 4', '7'],\n",
       "       ['Materia 5', '2'],\n",
       "       ['estado', 'regular'],\n",
       "       ['matricula', '11111112']], dtype='<U9')"
      ]
     },
     "execution_count": 88,
     "metadata": {},
     "output_type": "execute_result"
    }
   ],
   "source": [
    "data[:10]"
   ]
  },
  {
   "cell_type": "markdown",
   "id": "069e34e7",
   "metadata": {},
   "source": [
    "## 4. Obtener las cabeceras(primer columna del array)"
   ]
  },
  {
   "cell_type": "code",
   "execution_count": 89,
   "id": "a4835a9d",
   "metadata": {},
   "outputs": [],
   "source": [
    "cabeceras = data.T[0] #Transponer la columna 0 a una fila"
   ]
  },
  {
   "cell_type": "code",
   "execution_count": 90,
   "id": "9d5df584",
   "metadata": {},
   "outputs": [
    {
     "data": {
      "text/plain": [
       "array(['matricula', 'nombre', 'grupo', 'Materia 1', 'Materia 2',\n",
       "       'Materia 3', 'Materia 4', 'Materia 5', 'estado', 'matricula',\n",
       "       'nombre', 'grupo', 'Materia 1', 'Materia 2', 'Materia 3',\n",
       "       'Materia 4', 'Materia 5', 'estado', 'matricula', 'nombre', 'grupo',\n",
       "       'Materia 1', 'Materia 2', 'Materia 3', 'Materia 4', 'Materia 5',\n",
       "       'estado', 'matricula', 'nombre', 'grupo', 'Materia 1', 'Materia 2',\n",
       "       'Materia 3', 'Materia 4', 'Materia 5', 'estado', 'matricula',\n",
       "       'nombre', 'grupo', 'Materia 1', 'Materia 2', 'Materia 3',\n",
       "       'Materia 4', 'Materia 5', 'estado', 'matricula', 'nombre', 'grupo',\n",
       "       'Materia 1', 'Materia 2', 'Materia 3', 'Materia 4', 'Materia 5',\n",
       "       'estado', 'matricula', 'nombre', 'grupo', 'Materia 1', 'Materia 2',\n",
       "       'Materia 3', 'Materia 4', 'Materia 5', 'estado', 'matricula',\n",
       "       'nombre', 'grupo', 'Materia 1', 'Materia 2', 'Materia 3',\n",
       "       'Materia 4', 'Materia 5', 'estado', 'matricula', 'nombre', 'grupo',\n",
       "       'Materia 1', 'Materia 2', 'Materia 3', 'Materia 4', 'Materia 5',\n",
       "       'estado', 'matricula', 'nombre', 'grupo', 'Materia 1', 'Materia 2',\n",
       "       'Materia 3', 'Materia 4', 'Materia 5', 'estado', 'matricula',\n",
       "       'nombre', 'grupo', 'Materia 1', 'Materia 2', 'Materia 3',\n",
       "       'Materia 4', 'Materia 5', 'estado', 'matricula', 'nombre', 'grupo',\n",
       "       'Materia 1', 'Materia 2', 'Materia 3', 'Materia 4', 'Materia 5',\n",
       "       'estado', 'matricula', 'nombre', 'grupo', 'Materia 1', 'Materia 2',\n",
       "       'Materia 3', 'Materia 4', 'Materia 5', 'estado', 'matricula',\n",
       "       'nombre', 'grupo', 'Materia 1', 'Materia 2', 'Materia 3',\n",
       "       'Materia 4', 'Materia 5', 'estado', 'matricula', 'nombre', 'grupo',\n",
       "       'Materia 1', 'Materia 2', 'Materia 3', 'Materia 4', 'Materia 5',\n",
       "       'estado', 'matricula', 'nombre', 'grupo', 'Materia 1', 'Materia 2',\n",
       "       'Materia 3', 'Materia 4', 'Materia 5', 'estado', 'matricula',\n",
       "       'nombre', 'grupo', 'Materia 1', 'Materia 2', 'Materia 3',\n",
       "       'Materia 4', 'Materia 5', 'estado', 'matricula', 'nombre', 'grupo',\n",
       "       'Materia 1', 'Materia 2', 'Materia 3', 'Materia 4', 'Materia 5',\n",
       "       'estado', 'matricula', 'nombre', 'grupo', 'Materia 1', 'Materia 2',\n",
       "       'Materia 3', 'Materia 4', 'Materia 5', 'estado', 'matricula',\n",
       "       'nombre', 'grupo', 'Materia 1', 'Materia 2', 'Materia 3',\n",
       "       'Materia 4', 'Materia 5', 'estado', 'matricula', 'nombre', 'grupo',\n",
       "       'Materia 1', 'Materia 2', 'Materia 3', 'Materia 4', 'Materia 5',\n",
       "       'estado', 'matricula', 'nombre', 'grupo', 'Materia 1', 'Materia 2',\n",
       "       'Materia 3', 'Materia 4', 'Materia 5', 'estado', 'matricula',\n",
       "       'nombre', 'grupo', 'Materia 1', 'Materia 2', 'Materia 3',\n",
       "       'Materia 4', 'Materia 5', 'estado', 'matricula', 'nombre', 'grupo',\n",
       "       'Materia 1', 'Materia 2', 'Materia 3', 'Materia 4', 'Materia 5',\n",
       "       'estado', 'matricula', 'nombre', 'grupo', 'Materia 1', 'Materia 2',\n",
       "       'Materia 3', 'Materia 4', 'Materia 5', 'estado', 'matricula',\n",
       "       'nombre', 'grupo', 'Materia 1', 'Materia 2', 'Materia 3',\n",
       "       'Materia 4', 'Materia 5', 'estado', 'matricula', 'nombre', 'grupo',\n",
       "       'Materia 1', 'Materia 2', 'Materia 3', 'Materia 4', 'Materia 5',\n",
       "       'estado', 'matricula', 'nombre', 'grupo', 'Materia 1', 'Materia 2',\n",
       "       'Materia 3', 'Materia 4', 'Materia 5', 'estado', 'matricula',\n",
       "       'nombre', 'grupo', 'Materia 1', 'Materia 2', 'Materia 3',\n",
       "       'Materia 4', 'Materia 5', 'estado', 'matricula', 'nombre', 'grupo',\n",
       "       'Materia 1', 'Materia 2', 'Materia 3', 'Materia 4', 'Materia 5',\n",
       "       'estado', 'matricula', 'nombre', 'grupo', 'Materia 1', 'Materia 2',\n",
       "       'Materia 3', 'Materia 4', 'Materia 5', 'estado', 'matricula',\n",
       "       'nombre', 'grupo', 'Materia 1', 'Materia 2', 'Materia 3',\n",
       "       'Materia 4', 'Materia 5', 'estado', 'matricula', 'nombre', 'grupo',\n",
       "       'Materia 1', 'Materia 2', 'Materia 3', 'Materia 4', 'Materia 5',\n",
       "       'estado', 'matricula', 'nombre', 'grupo', 'Materia 1', 'Materia 2',\n",
       "       'Materia 3', 'Materia 4', 'Materia 5', 'estado', 'matricula',\n",
       "       'nombre', 'grupo', 'Materia 1', 'Materia 2', 'Materia 3',\n",
       "       'Materia 4', 'Materia 5', 'estado', 'matricula', 'nombre', 'grupo',\n",
       "       'Materia 1', 'Materia 2', 'Materia 3', 'Materia 4', 'Materia 5',\n",
       "       'estado', 'matricula', 'nombre', 'grupo', 'Materia 1', 'Materia 2',\n",
       "       'Materia 3', 'Materia 4', 'Materia 5', 'estado', 'matricula',\n",
       "       'nombre', 'grupo', 'Materia 1', 'Materia 2', 'Materia 3',\n",
       "       'Materia 4', 'Materia 5', 'estado', 'matricula', 'nombre', 'grupo',\n",
       "       'Materia 1', 'Materia 2', 'Materia 3', 'Materia 4', 'Materia 5',\n",
       "       'estado', 'matricula', 'nombre', 'grupo', 'Materia 1', 'Materia 2',\n",
       "       'Materia 3', 'Materia 4', 'Materia 5', 'estado', 'matricula',\n",
       "       'nombre', 'grupo', 'Materia 1', 'Materia 2', 'Materia 3',\n",
       "       'Materia 4', 'Materia 5', 'estado', 'matricula', 'nombre', 'grupo',\n",
       "       'Materia 1', 'Materia 2', 'Materia 3', 'Materia 4', 'Materia 5',\n",
       "       'estado', 'matricula', 'nombre', 'grupo', 'Materia 1', 'Materia 2',\n",
       "       'Materia 3', 'Materia 4', 'Materia 5', 'estado', 'matricula',\n",
       "       'nombre', 'grupo', 'Materia 1', 'Materia 2', 'Materia 3',\n",
       "       'Materia 4', 'Materia 5', 'estado', 'matricula', 'nombre', 'grupo',\n",
       "       'Materia 1', 'Materia 2', 'Materia 3', 'Materia 4', 'Materia 5',\n",
       "       'estado', 'matricula', 'nombre', 'grupo', 'Materia 1', 'Materia 2',\n",
       "       'Materia 3', 'Materia 4', 'Materia 5', 'estado', 'matricula',\n",
       "       'nombre', 'grupo', 'Materia 1', 'Materia 2', 'Materia 3',\n",
       "       'Materia 4', 'Materia 5', 'estado', 'matricula', 'nombre', 'grupo',\n",
       "       'Materia 1', 'Materia 2', 'Materia 3', 'Materia 4', 'Materia 5',\n",
       "       'estado'], dtype='<U9')"
      ]
     },
     "execution_count": 90,
     "metadata": {},
     "output_type": "execute_result"
    }
   ],
   "source": [
    "cabeceras"
   ]
  },
  {
   "cell_type": "markdown",
   "id": "74b32fa0",
   "metadata": {},
   "source": [
    "## 5. Contar las cabeceras"
   ]
  },
  {
   "cell_type": "code",
   "execution_count": 91,
   "id": "a05a822d",
   "metadata": {},
   "outputs": [
    {
     "data": {
      "text/plain": [
       "432"
      ]
     },
     "execution_count": 91,
     "metadata": {},
     "output_type": "execute_result"
    }
   ],
   "source": [
    "cabeceras.size"
   ]
  },
  {
   "cell_type": "code",
   "execution_count": 92,
   "id": "c516e063",
   "metadata": {},
   "outputs": [
    {
     "data": {
      "text/plain": [
       "array(['Materia 1', 'Materia 2', 'Materia 3', 'Materia 4', 'Materia 5',\n",
       "       'estado', 'grupo', 'matricula', 'nombre'], dtype='<U9')"
      ]
     },
     "execution_count": 92,
     "metadata": {},
     "output_type": "execute_result"
    }
   ],
   "source": [
    "np.unique(cabeceras)"
   ]
  },
  {
   "cell_type": "code",
   "execution_count": 93,
   "id": "c012f2b7",
   "metadata": {},
   "outputs": [
    {
     "data": {
      "text/plain": [
       "9"
      ]
     },
     "execution_count": 93,
     "metadata": {},
     "output_type": "execute_result"
    }
   ],
   "source": [
    "np.unique(cabeceras).size"
   ]
  },
  {
   "cell_type": "markdown",
   "id": "a7eb5163",
   "metadata": {},
   "source": [
    "## 6. Obtener las cabecera"
   ]
  },
  {
   "cell_type": "code",
   "execution_count": 94,
   "id": "f4d3a021",
   "metadata": {},
   "outputs": [
    {
     "data": {
      "text/plain": [
       "array(['matricula', 'nombre', 'grupo', 'Materia 1', 'Materia 2',\n",
       "       'Materia 3', 'Materia 4', 'Materia 5', 'estado'], dtype='<U9')"
      ]
     },
     "execution_count": 94,
     "metadata": {},
     "output_type": "execute_result"
    }
   ],
   "source": [
    "cabeceras = cabeceras[:9]\n",
    "cabeceras"
   ]
  },
  {
   "cell_type": "markdown",
   "id": "3b67fc32",
   "metadata": {},
   "source": [
    "## 7. Calcular el número de registros"
   ]
  },
  {
   "cell_type": "code",
   "execution_count": 95,
   "id": "62b42519",
   "metadata": {},
   "outputs": [
    {
     "data": {
      "text/plain": [
       "9"
      ]
     },
     "execution_count": 95,
     "metadata": {},
     "output_type": "execute_result"
    }
   ],
   "source": [
    "no_cabeceras = cabeceras.size\n",
    "no_cabeceras"
   ]
  },
  {
   "cell_type": "code",
   "execution_count": 96,
   "id": "1288c33e",
   "metadata": {},
   "outputs": [
    {
     "data": {
      "text/plain": [
       "432"
      ]
     },
     "execution_count": 96,
     "metadata": {},
     "output_type": "execute_result"
    }
   ],
   "source": [
    "no_registros = data.T[0].size\n",
    "no_registros"
   ]
  },
  {
   "cell_type": "code",
   "execution_count": 97,
   "id": "c0f62e50",
   "metadata": {},
   "outputs": [
    {
     "data": {
      "text/plain": [
       "48.0"
      ]
     },
     "execution_count": 97,
     "metadata": {},
     "output_type": "execute_result"
    }
   ],
   "source": [
    "filas = no_registros / no_cabeceras\n",
    "filas"
   ]
  },
  {
   "cell_type": "markdown",
   "id": "74bba1ed",
   "metadata": {},
   "source": [
    "## 8. Eliminar las cabeceras del array"
   ]
  },
  {
   "cell_type": "code",
   "execution_count": 98,
   "id": "b891baa8",
   "metadata": {},
   "outputs": [],
   "source": [
    "data_sin_cabeceras = np.delete(data,0,1) # (arr, obj,axis) axis:0-rows 1-cols"
   ]
  },
  {
   "cell_type": "code",
   "execution_count": 99,
   "id": "befd73e5",
   "metadata": {},
   "outputs": [
    {
     "data": {
      "text/plain": [
       "array([['11111111'],\n",
       "       ['Alumno 1'],\n",
       "       ['TI11'],\n",
       "       ['1'],\n",
       "       ['8'],\n",
       "       ['1'],\n",
       "       ['7'],\n",
       "       ['2'],\n",
       "       ['regular'],\n",
       "       ['11111112']], dtype='<U9')"
      ]
     },
     "execution_count": 99,
     "metadata": {},
     "output_type": "execute_result"
    }
   ],
   "source": [
    "data_sin_cabeceras[:10]"
   ]
  },
  {
   "cell_type": "markdown",
   "id": "1094f294",
   "metadata": {},
   "source": [
    "## 9. Cambiar la forma del array"
   ]
  },
  {
   "cell_type": "code",
   "execution_count": 100,
   "id": "76caafcf",
   "metadata": {},
   "outputs": [
    {
     "data": {
      "text/plain": [
       "(432, 1)"
      ]
     },
     "execution_count": 100,
     "metadata": {},
     "output_type": "execute_result"
    }
   ],
   "source": [
    "data_sin_cabeceras.shape"
   ]
  },
  {
   "cell_type": "code",
   "execution_count": 101,
   "id": "8aa7c46b",
   "metadata": {},
   "outputs": [],
   "source": [
    "data_sin_cabeceras = data_sin_cabeceras.reshape(int(filas),int(no_cabeceras))"
   ]
  },
  {
   "cell_type": "code",
   "execution_count": 102,
   "id": "3786aa84",
   "metadata": {},
   "outputs": [
    {
     "data": {
      "text/plain": [
       "array([['11111111', 'Alumno 1', 'TI11', '1', '8', '1', '7', '2',\n",
       "        'regular'],\n",
       "       ['11111112', 'Alumno 2', 'TI11', '10', '7', '1', '8', '5',\n",
       "        'regular'],\n",
       "       ['11111113', 'Alumno 3', 'TI11', '4', '1', '1', '3', '0',\n",
       "        'regular'],\n",
       "       ['11111114', 'Alumno 4', 'TI11', '5', '4', '3', '2', '7',\n",
       "        'regular'],\n",
       "       ['11111115', 'Alumno 5', 'TI11', '9', '10', '3', '9', '2',\n",
       "        'regular']], dtype='<U9')"
      ]
     },
     "execution_count": 102,
     "metadata": {},
     "output_type": "execute_result"
    }
   ],
   "source": [
    "data_sin_cabeceras[:5]"
   ]
  },
  {
   "cell_type": "code",
   "execution_count": 103,
   "id": "3d4ac4fa",
   "metadata": {},
   "outputs": [
    {
     "data": {
      "text/plain": [
       "(48, 9)"
      ]
     },
     "execution_count": 103,
     "metadata": {},
     "output_type": "execute_result"
    }
   ],
   "source": [
    "data_sin_cabeceras.shape"
   ]
  },
  {
   "cell_type": "markdown",
   "id": "82b3326d",
   "metadata": {},
   "source": [
    "## 10. Separar datos de alumnos"
   ]
  },
  {
   "cell_type": "code",
   "execution_count": 104,
   "id": "39ceaa54",
   "metadata": {},
   "outputs": [],
   "source": [
    "# Tomar todas las filas y solo las 3 primeras columnas [:,:3]\n",
    "datos_alumnos = np.array(data_sin_cabeceras[:,:3])"
   ]
  },
  {
   "cell_type": "code",
   "execution_count": 105,
   "id": "e9b68a10",
   "metadata": {},
   "outputs": [
    {
     "data": {
      "text/plain": [
       "array([['11111111', 'Alumno 1', 'TI11'],\n",
       "       ['11111112', 'Alumno 2', 'TI11'],\n",
       "       ['11111113', 'Alumno 3', 'TI11'],\n",
       "       ['11111114', 'Alumno 4', 'TI11'],\n",
       "       ['11111115', 'Alumno 5', 'TI11']], dtype='<U9')"
      ]
     },
     "execution_count": 105,
     "metadata": {},
     "output_type": "execute_result"
    }
   ],
   "source": [
    "datos_alumnos[:5]"
   ]
  },
  {
   "cell_type": "code",
   "execution_count": 106,
   "id": "89a12a4d",
   "metadata": {},
   "outputs": [
    {
     "data": {
      "text/plain": [
       "(48, 3)"
      ]
     },
     "execution_count": 106,
     "metadata": {},
     "output_type": "execute_result"
    }
   ],
   "source": [
    "datos_alumnos.shape"
   ]
  },
  {
   "cell_type": "markdown",
   "id": "420518f2",
   "metadata": {},
   "source": [
    "## 11. Separar calificaciones de los alumnos"
   ]
  },
  {
   "cell_type": "code",
   "execution_count": 107,
   "id": "baf66663",
   "metadata": {},
   "outputs": [],
   "source": [
    "calificaciones_alumnos = np.array(data_sin_cabeceras[:,3:8], dtype = float)"
   ]
  },
  {
   "cell_type": "code",
   "execution_count": 108,
   "id": "72ccf930",
   "metadata": {},
   "outputs": [
    {
     "data": {
      "text/plain": [
       "array([[ 1.,  8.,  1.,  7.,  2.],\n",
       "       [10.,  7.,  1.,  8.,  5.],\n",
       "       [ 4.,  1.,  1.,  3.,  0.],\n",
       "       [ 5.,  4.,  3.,  2.,  7.],\n",
       "       [ 9., 10.,  3.,  9.,  2.]])"
      ]
     },
     "execution_count": 108,
     "metadata": {},
     "output_type": "execute_result"
    }
   ],
   "source": [
    "calificaciones_alumnos[:5]"
   ]
  },
  {
   "cell_type": "code",
   "execution_count": 109,
   "id": "0437876b",
   "metadata": {},
   "outputs": [
    {
     "data": {
      "text/plain": [
       "(48, 5)"
      ]
     },
     "execution_count": 109,
     "metadata": {},
     "output_type": "execute_result"
    }
   ],
   "source": [
    "calificaciones_alumnos.shape"
   ]
  },
  {
   "cell_type": "markdown",
   "id": "750665f2",
   "metadata": {},
   "source": [
    "## 12. Calcular el promedio"
   ]
  },
  {
   "cell_type": "code",
   "execution_count": 110,
   "id": "69505b02",
   "metadata": {},
   "outputs": [],
   "source": [
    "promedio = []\n",
    "for index in range(int(filas)):\n",
    "    promedio.append([\"regular\",calificaciones_alumnos[index].mean()])\n",
    "\n",
    "promedio = np.array(promedio)"
   ]
  },
  {
   "cell_type": "code",
   "execution_count": 111,
   "id": "41b2b6ed",
   "metadata": {},
   "outputs": [
    {
     "data": {
      "text/plain": [
       "array([['regular', '3.8'],\n",
       "       ['regular', '6.2'],\n",
       "       ['regular', '1.8'],\n",
       "       ['regular', '4.2'],\n",
       "       ['regular', '6.6']], dtype='<U32')"
      ]
     },
     "execution_count": 111,
     "metadata": {},
     "output_type": "execute_result"
    }
   ],
   "source": [
    "promedio[:5]"
   ]
  },
  {
   "cell_type": "code",
   "execution_count": 112,
   "id": "8671c3c9",
   "metadata": {},
   "outputs": [
    {
     "data": {
      "text/plain": [
       "(48, 2)"
      ]
     },
     "execution_count": 112,
     "metadata": {},
     "output_type": "execute_result"
    }
   ],
   "source": [
    "promedio.shape"
   ]
  },
  {
   "cell_type": "markdown",
   "id": "f1985b83",
   "metadata": {},
   "source": [
    "## 13. Unir los arreglos"
   ]
  },
  {
   "cell_type": "code",
   "execution_count": 113,
   "id": "c9fc3621",
   "metadata": {},
   "outputs": [],
   "source": [
    "todos = np.concatenate((datos_alumnos,calificaciones_alumnos,promedio), axis = 1)"
   ]
  },
  {
   "cell_type": "code",
   "execution_count": 114,
   "id": "c9bc7a10",
   "metadata": {},
   "outputs": [
    {
     "data": {
      "text/plain": [
       "array([['11111111', 'Alumno 1', 'TI11', '1.0', '8.0', '1.0', '7.0',\n",
       "        '2.0', 'regular', '3.8'],\n",
       "       ['11111112', 'Alumno 2', 'TI11', '10.0', '7.0', '1.0', '8.0',\n",
       "        '5.0', 'regular', '6.2'],\n",
       "       ['11111113', 'Alumno 3', 'TI11', '4.0', '1.0', '1.0', '3.0',\n",
       "        '0.0', 'regular', '1.8'],\n",
       "       ['11111114', 'Alumno 4', 'TI11', '5.0', '4.0', '3.0', '2.0',\n",
       "        '7.0', 'regular', '4.2'],\n",
       "       ['11111115', 'Alumno 5', 'TI11', '9.0', '10.0', '3.0', '9.0',\n",
       "        '2.0', 'regular', '6.6']], dtype='<U32')"
      ]
     },
     "execution_count": 114,
     "metadata": {},
     "output_type": "execute_result"
    }
   ],
   "source": [
    "todos[:5]"
   ]
  },
  {
   "cell_type": "code",
   "execution_count": 115,
   "id": "9347f032",
   "metadata": {},
   "outputs": [
    {
     "data": {
      "text/plain": [
       "(48, 10)"
      ]
     },
     "execution_count": 115,
     "metadata": {},
     "output_type": "execute_result"
    }
   ],
   "source": [
    "todos.shape"
   ]
  },
  {
   "cell_type": "markdown",
   "id": "d8c9ac27",
   "metadata": {},
   "source": [
    "## 14. Unir cabeceras"
   ]
  },
  {
   "cell_type": "code",
   "execution_count": 116,
   "id": "a92eede2",
   "metadata": {},
   "outputs": [
    {
     "data": {
      "text/plain": [
       "array(['matricula', 'nombre', 'grupo', 'Materia 1', 'Materia 2',\n",
       "       'Materia 3', 'Materia 4', 'Materia 5', 'estado'], dtype='<U9')"
      ]
     },
     "execution_count": 116,
     "metadata": {},
     "output_type": "execute_result"
    }
   ],
   "source": [
    "cabeceras"
   ]
  },
  {
   "cell_type": "code",
   "execution_count": 117,
   "id": "d802cca4",
   "metadata": {},
   "outputs": [],
   "source": [
    "cabeceras = np.concatenate((cabeceras, [\"promedio\"]),axis=0, dtype=str)"
   ]
  },
  {
   "cell_type": "code",
   "execution_count": 118,
   "id": "c676e21b",
   "metadata": {},
   "outputs": [
    {
     "data": {
      "text/plain": [
       "(10,)"
      ]
     },
     "execution_count": 118,
     "metadata": {},
     "output_type": "execute_result"
    }
   ],
   "source": [
    "cabeceras.shape"
   ]
  },
  {
   "cell_type": "code",
   "execution_count": 119,
   "id": "6ab72dfd",
   "metadata": {},
   "outputs": [],
   "source": [
    "todos = np.concatenate(([cabeceras],todos),axis = 0, dtype=str)"
   ]
  },
  {
   "cell_type": "code",
   "execution_count": 121,
   "id": "f084c719",
   "metadata": {},
   "outputs": [
    {
     "data": {
      "text/plain": [
       "array([['matricula', 'nombre', 'grupo', 'Materia 1', 'Materia 2',\n",
       "        'Materia 3', 'Materia 4', 'Materia 5', 'estado', 'promedio'],\n",
       "       ['11111111', 'Alumno 1', 'TI11', '1.0', '8.0', '1.0', '7.0',\n",
       "        '2.0', 'regular', '3.8'],\n",
       "       ['11111112', 'Alumno 2', 'TI11', '10.0', '7.0', '1.0', '8.0',\n",
       "        '5.0', 'regular', '6.2'],\n",
       "       ['11111113', 'Alumno 3', 'TI11', '4.0', '1.0', '1.0', '3.0',\n",
       "        '0.0', 'regular', '1.8'],\n",
       "       ['11111114', 'Alumno 4', 'TI11', '5.0', '4.0', '3.0', '2.0',\n",
       "        '7.0', 'regular', '4.2']], dtype='<U32')"
      ]
     },
     "execution_count": 121,
     "metadata": {},
     "output_type": "execute_result"
    }
   ],
   "source": [
    "todos[:5]"
   ]
  },
  {
   "cell_type": "markdown",
   "id": "9ce90061",
   "metadata": {},
   "source": [
    "## 15. Exportar a CSV"
   ]
  },
  {
   "cell_type": "code",
   "execution_count": 123,
   "id": "5d6e0208",
   "metadata": {},
   "outputs": [],
   "source": [
    "row = [f\"{c0},{c1},{c2},{c3},{c4},{c5},{c6},{c7},{c8},{c9}\" for c0,c1,c2,c3,c4,c5,c6,c7,c8,c9 in todos]\n",
    "text = \"\\n\".join(row)\n",
    "\n",
    "with open(\"salida.csv\",\"w\") as file:\n",
    "    file.write(text)"
   ]
  }
 ],
 "metadata": {
  "kernelspec": {
   "display_name": "Python 3",
   "language": "python",
   "name": "python3"
  },
  "language_info": {
   "codemirror_mode": {
    "name": "ipython",
    "version": 3
   },
   "file_extension": ".py",
   "mimetype": "text/x-python",
   "name": "python",
   "nbconvert_exporter": "python",
   "pygments_lexer": "ipython3",
   "version": "3.10.7"
  },
  "vscode": {
   "interpreter": {
    "hash": "e7370f93d1d0cde622a1f8e1c04877d8463912d04d973331ad4851f04de6915a"
   }
  }
 },
 "nbformat": 4,
 "nbformat_minor": 5
}
