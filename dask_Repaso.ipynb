{
 "cells": [
  {
   "cell_type": "code",
   "execution_count": 1,
   "id": "c4b4cb0e",
   "metadata": {},
   "outputs": [],
   "source": [
    "import time\n",
    "import numpy as np\n",
    "import dask.array as da"
   ]
  },
  {
   "cell_type": "code",
   "execution_count": 11,
   "id": "37d66fb7",
   "metadata": {},
   "outputs": [
    {
     "name": "stdout",
     "output_type": "stream",
     "text": [
      "CPU times: user 10.9 s, sys: 845 ms, total: 11.7 s\n",
      "Wall time: 11.8 s\n"
     ]
    }
   ],
   "source": [
    "%%time\n",
    "np.random.seed(1234)\n",
    "array = np.random.randint(10,100, 1_000_000_000).reshape(10_000_0000,10)"
   ]
  },
  {
   "cell_type": "code",
   "execution_count": 5,
   "id": "7da18c27",
   "metadata": {},
   "outputs": [
    {
     "data": {
      "text/plain": [
       "array([[57, 93, 48, ..., 59, 33, 36],\n",
       "       [40, 53, 40, ..., 83, 57, 60],\n",
       "       [86, 47, 44, ..., 85, 90, 13],\n",
       "       ...,\n",
       "       [36, 90, 58, ..., 30, 95, 93],\n",
       "       [62, 39, 18, ..., 80, 70, 88],\n",
       "       [93, 11, 53, ..., 60, 21, 24]])"
      ]
     },
     "execution_count": 5,
     "metadata": {},
     "output_type": "execute_result"
    }
   ],
   "source": [
    "array"
   ]
  },
  {
   "cell_type": "code",
   "execution_count": null,
   "id": "e41eb25f",
   "metadata": {},
   "outputs": [],
   "source": [
    "# !pip install dask"
   ]
  },
  {
   "cell_type": "code",
   "execution_count": 23,
   "id": "180aa192",
   "metadata": {},
   "outputs": [
    {
     "name": "stdout",
     "output_type": "stream",
     "text": [
      "CPU times: user 6.41 ms, sys: 0 ns, total: 6.41 ms\n",
      "Wall time: 5.58 ms\n"
     ]
    },
    {
     "name": "stderr",
     "output_type": "stream",
     "text": [
      "/tmp/ipykernel_6329/674354500.py:1: PerformanceWarning: Reshaping is producing a large chunk. To accept the large\n",
      "chunk and silence this warning, set the option\n",
      "    >>> with dask.config.set(**{'array.slicing.split_large_chunks': False}):\n",
      "    ...     array.reshape(shape)\n",
      "\n",
      "To avoid creating the large chunks, set the option\n",
      "    >>> with dask.config.set(**{'array.slicing.split_large_chunks': True}):\n",
      "    ...     array.reshape(shape)Explictly passing ``limit`` to ``reshape`` will also silence this warning\n",
      "    >>> array.reshape(shape, limit='128 MiB')\n",
      "  get_ipython().run_cell_magic('time', '', 'da.random.seed(1234)\\narray_dask = da.random.randint(10,100, 1_000_000_000).reshape(100_000_000,10)\\n')\n"
     ]
    }
   ],
   "source": [
    "%%time\n",
    "da.random.seed(1234)\n",
    "array_dask = da.random.randint(10,100, 1_000_000_000).reshape(100_000_000,10)"
   ]
  },
  {
   "cell_type": "code",
   "execution_count": 24,
   "id": "b274af51",
   "metadata": {},
   "outputs": [
    {
     "data": {
      "text/html": [
       "<table>\n",
       "    <tr>\n",
       "        <td>\n",
       "            <table style=\"border-collapse: collapse;\">\n",
       "                <thead>\n",
       "                    <tr>\n",
       "                        <td> </td>\n",
       "                        <th> Array </th>\n",
       "                        <th> Chunk </th>\n",
       "                    </tr>\n",
       "                </thead>\n",
       "                <tbody>\n",
       "                    \n",
       "                    <tr>\n",
       "                        <th> Bytes </th>\n",
       "                        <td> 7.45 GiB </td>\n",
       "                        <td> 128.00 MiB </td>\n",
       "                    </tr>\n",
       "                    \n",
       "                    <tr>\n",
       "                        <th> Shape </th>\n",
       "                        <td> (100000000, 10) </td>\n",
       "                        <td> (1677722, 10) </td>\n",
       "                    </tr>\n",
       "                    <tr>\n",
       "                        <th> Dask graph </th>\n",
       "                        <td colspan=\"2\"> 60 chunks in 3 graph layers </td>\n",
       "                    </tr>\n",
       "                    <tr>\n",
       "                        <th> Data type </th>\n",
       "                        <td colspan=\"2\"> int64 numpy.ndarray </td>\n",
       "                    </tr>\n",
       "                </tbody>\n",
       "            </table>\n",
       "        </td>\n",
       "        <td>\n",
       "        <svg width=\"75\" height=\"170\" style=\"stroke:rgb(0,0,0);stroke-width:1\" >\n",
       "\n",
       "  <!-- Horizontal lines -->\n",
       "  <line x1=\"0\" y1=\"0\" x2=\"25\" y2=\"0\" style=\"stroke-width:2\" />\n",
       "  <line x1=\"0\" y1=\"6\" x2=\"25\" y2=\"6\" />\n",
       "  <line x1=\"0\" y1=\"12\" x2=\"25\" y2=\"12\" />\n",
       "  <line x1=\"0\" y1=\"18\" x2=\"25\" y2=\"18\" />\n",
       "  <line x1=\"0\" y1=\"24\" x2=\"25\" y2=\"24\" />\n",
       "  <line x1=\"0\" y1=\"30\" x2=\"25\" y2=\"30\" />\n",
       "  <line x1=\"0\" y1=\"36\" x2=\"25\" y2=\"36\" />\n",
       "  <line x1=\"0\" y1=\"44\" x2=\"25\" y2=\"44\" />\n",
       "  <line x1=\"0\" y1=\"50\" x2=\"25\" y2=\"50\" />\n",
       "  <line x1=\"0\" y1=\"56\" x2=\"25\" y2=\"56\" />\n",
       "  <line x1=\"0\" y1=\"62\" x2=\"25\" y2=\"62\" />\n",
       "  <line x1=\"0\" y1=\"68\" x2=\"25\" y2=\"68\" />\n",
       "  <line x1=\"0\" y1=\"74\" x2=\"25\" y2=\"74\" />\n",
       "  <line x1=\"0\" y1=\"82\" x2=\"25\" y2=\"82\" />\n",
       "  <line x1=\"0\" y1=\"88\" x2=\"25\" y2=\"88\" />\n",
       "  <line x1=\"0\" y1=\"94\" x2=\"25\" y2=\"94\" />\n",
       "  <line x1=\"0\" y1=\"100\" x2=\"25\" y2=\"100\" />\n",
       "  <line x1=\"0\" y1=\"106\" x2=\"25\" y2=\"106\" />\n",
       "  <line x1=\"0\" y1=\"112\" x2=\"25\" y2=\"112\" />\n",
       "  <line x1=\"0\" y1=\"120\" x2=\"25\" y2=\"120\" style=\"stroke-width:2\" />\n",
       "\n",
       "  <!-- Vertical lines -->\n",
       "  <line x1=\"0\" y1=\"0\" x2=\"0\" y2=\"120\" style=\"stroke-width:2\" />\n",
       "  <line x1=\"25\" y1=\"0\" x2=\"25\" y2=\"120\" style=\"stroke-width:2\" />\n",
       "\n",
       "  <!-- Colored Rectangle -->\n",
       "  <polygon points=\"0.0,0.0 25.412616514582485,0.0 25.412616514582485,120.0 0.0,120.0\" style=\"fill:#8B4903A0;stroke-width:0\"/>\n",
       "\n",
       "  <!-- Text -->\n",
       "  <text x=\"12.706308\" y=\"140.000000\" font-size=\"1.0rem\" font-weight=\"100\" text-anchor=\"middle\" >10</text>\n",
       "  <text x=\"45.412617\" y=\"60.000000\" font-size=\"1.0rem\" font-weight=\"100\" text-anchor=\"middle\" transform=\"rotate(-90,45.412617,60.000000)\">100000000</text>\n",
       "</svg>\n",
       "        </td>\n",
       "    </tr>\n",
       "</table>"
      ],
      "text/plain": [
       "dask.array<reshape, shape=(100000000, 10), dtype=int64, chunksize=(1677722, 10), chunktype=numpy.ndarray>"
      ]
     },
     "execution_count": 24,
     "metadata": {},
     "output_type": "execute_result"
    }
   ],
   "source": [
    "array_dask"
   ]
  },
  {
   "cell_type": "code",
   "execution_count": 2,
   "id": "639f4eee",
   "metadata": {},
   "outputs": [
    {
     "name": "stdout",
     "output_type": "stream",
     "text": [
      "CPU times: user 12.9 s, sys: 1.48 s, total: 14.4 s\n",
      "Wall time: 14.5 s\n"
     ]
    }
   ],
   "source": [
    "%%time\n",
    "da.random.seed(1234)\n",
    "array_dask = da.random.random((2000,2000,2000),chunks=20)"
   ]
  },
  {
   "cell_type": "code",
   "execution_count": 3,
   "id": "dd932fc9",
   "metadata": {},
   "outputs": [
    {
     "data": {
      "text/html": [
       "<table>\n",
       "    <tr>\n",
       "        <td>\n",
       "            <table style=\"border-collapse: collapse;\">\n",
       "                <thead>\n",
       "                    <tr>\n",
       "                        <td> </td>\n",
       "                        <th> Array </th>\n",
       "                        <th> Chunk </th>\n",
       "                    </tr>\n",
       "                </thead>\n",
       "                <tbody>\n",
       "                    \n",
       "                    <tr>\n",
       "                        <th> Bytes </th>\n",
       "                        <td> 59.60 GiB </td>\n",
       "                        <td> 62.50 kiB </td>\n",
       "                    </tr>\n",
       "                    \n",
       "                    <tr>\n",
       "                        <th> Shape </th>\n",
       "                        <td> (2000, 2000, 2000) </td>\n",
       "                        <td> (20, 20, 20) </td>\n",
       "                    </tr>\n",
       "                    <tr>\n",
       "                        <th> Dask graph </th>\n",
       "                        <td colspan=\"2\"> 1000000 chunks in 1 graph layer </td>\n",
       "                    </tr>\n",
       "                    <tr>\n",
       "                        <th> Data type </th>\n",
       "                        <td colspan=\"2\"> float64 numpy.ndarray </td>\n",
       "                    </tr>\n",
       "                </tbody>\n",
       "            </table>\n",
       "        </td>\n",
       "        <td>\n",
       "        <svg width=\"250\" height=\"240\" style=\"stroke:rgb(0,0,0);stroke-width:1\" >\n",
       "\n",
       "  <!-- Horizontal lines -->\n",
       "  <line x1=\"10\" y1=\"0\" x2=\"80\" y2=\"70\" style=\"stroke-width:2\" />\n",
       "  <line x1=\"10\" y1=\"6\" x2=\"80\" y2=\"76\" />\n",
       "  <line x1=\"10\" y1=\"12\" x2=\"80\" y2=\"82\" />\n",
       "  <line x1=\"10\" y1=\"18\" x2=\"80\" y2=\"88\" />\n",
       "  <line x1=\"10\" y1=\"25\" x2=\"80\" y2=\"95\" />\n",
       "  <line x1=\"10\" y1=\"31\" x2=\"80\" y2=\"101\" />\n",
       "  <line x1=\"10\" y1=\"37\" x2=\"80\" y2=\"107\" />\n",
       "  <line x1=\"10\" y1=\"43\" x2=\"80\" y2=\"113\" />\n",
       "  <line x1=\"10\" y1=\"50\" x2=\"80\" y2=\"120\" />\n",
       "  <line x1=\"10\" y1=\"56\" x2=\"80\" y2=\"126\" />\n",
       "  <line x1=\"10\" y1=\"62\" x2=\"80\" y2=\"132\" />\n",
       "  <line x1=\"10\" y1=\"68\" x2=\"80\" y2=\"138\" />\n",
       "  <line x1=\"10\" y1=\"75\" x2=\"80\" y2=\"146\" />\n",
       "  <line x1=\"10\" y1=\"81\" x2=\"80\" y2=\"152\" />\n",
       "  <line x1=\"10\" y1=\"87\" x2=\"80\" y2=\"158\" />\n",
       "  <line x1=\"10\" y1=\"93\" x2=\"80\" y2=\"164\" />\n",
       "  <line x1=\"10\" y1=\"100\" x2=\"80\" y2=\"171\" />\n",
       "  <line x1=\"10\" y1=\"106\" x2=\"80\" y2=\"177\" />\n",
       "  <line x1=\"10\" y1=\"112\" x2=\"80\" y2=\"183\" />\n",
       "  <line x1=\"10\" y1=\"120\" x2=\"80\" y2=\"190\" style=\"stroke-width:2\" />\n",
       "\n",
       "  <!-- Vertical lines -->\n",
       "  <line x1=\"10\" y1=\"0\" x2=\"10\" y2=\"120\" style=\"stroke-width:2\" />\n",
       "  <line x1=\"13\" y1=\"3\" x2=\"13\" y2=\"123\" />\n",
       "  <line x1=\"17\" y1=\"7\" x2=\"17\" y2=\"127\" />\n",
       "  <line x1=\"20\" y1=\"10\" x2=\"20\" y2=\"130\" />\n",
       "  <line x1=\"24\" y1=\"14\" x2=\"24\" y2=\"134\" />\n",
       "  <line x1=\"28\" y1=\"18\" x2=\"28\" y2=\"138\" />\n",
       "  <line x1=\"31\" y1=\"21\" x2=\"31\" y2=\"141\" />\n",
       "  <line x1=\"35\" y1=\"25\" x2=\"35\" y2=\"145\" />\n",
       "  <line x1=\"39\" y1=\"29\" x2=\"39\" y2=\"149\" />\n",
       "  <line x1=\"43\" y1=\"33\" x2=\"43\" y2=\"153\" />\n",
       "  <line x1=\"46\" y1=\"36\" x2=\"46\" y2=\"156\" />\n",
       "  <line x1=\"50\" y1=\"40\" x2=\"50\" y2=\"160\" />\n",
       "  <line x1=\"54\" y1=\"44\" x2=\"54\" y2=\"164\" />\n",
       "  <line x1=\"58\" y1=\"48\" x2=\"58\" y2=\"168\" />\n",
       "  <line x1=\"61\" y1=\"51\" x2=\"61\" y2=\"171\" />\n",
       "  <line x1=\"65\" y1=\"55\" x2=\"65\" y2=\"175\" />\n",
       "  <line x1=\"69\" y1=\"59\" x2=\"69\" y2=\"179\" />\n",
       "  <line x1=\"72\" y1=\"62\" x2=\"72\" y2=\"182\" />\n",
       "  <line x1=\"76\" y1=\"66\" x2=\"76\" y2=\"186\" />\n",
       "  <line x1=\"80\" y1=\"70\" x2=\"80\" y2=\"190\" style=\"stroke-width:2\" />\n",
       "\n",
       "  <!-- Colored Rectangle -->\n",
       "  <polygon points=\"10.0,0.0 80.58823529411765,70.58823529411765 80.58823529411765,190.58823529411765 10.0,120.0\" style=\"fill:#8B4903A0;stroke-width:0\"/>\n",
       "\n",
       "  <!-- Horizontal lines -->\n",
       "  <line x1=\"10\" y1=\"0\" x2=\"130\" y2=\"0\" style=\"stroke-width:2\" />\n",
       "  <line x1=\"13\" y1=\"3\" x2=\"133\" y2=\"3\" />\n",
       "  <line x1=\"17\" y1=\"7\" x2=\"137\" y2=\"7\" />\n",
       "  <line x1=\"20\" y1=\"10\" x2=\"140\" y2=\"10\" />\n",
       "  <line x1=\"24\" y1=\"14\" x2=\"144\" y2=\"14\" />\n",
       "  <line x1=\"28\" y1=\"18\" x2=\"148\" y2=\"18\" />\n",
       "  <line x1=\"31\" y1=\"21\" x2=\"151\" y2=\"21\" />\n",
       "  <line x1=\"35\" y1=\"25\" x2=\"155\" y2=\"25\" />\n",
       "  <line x1=\"39\" y1=\"29\" x2=\"159\" y2=\"29\" />\n",
       "  <line x1=\"43\" y1=\"33\" x2=\"163\" y2=\"33\" />\n",
       "  <line x1=\"46\" y1=\"36\" x2=\"166\" y2=\"36\" />\n",
       "  <line x1=\"50\" y1=\"40\" x2=\"170\" y2=\"40\" />\n",
       "  <line x1=\"54\" y1=\"44\" x2=\"174\" y2=\"44\" />\n",
       "  <line x1=\"58\" y1=\"48\" x2=\"178\" y2=\"48\" />\n",
       "  <line x1=\"61\" y1=\"51\" x2=\"181\" y2=\"51\" />\n",
       "  <line x1=\"65\" y1=\"55\" x2=\"185\" y2=\"55\" />\n",
       "  <line x1=\"69\" y1=\"59\" x2=\"189\" y2=\"59\" />\n",
       "  <line x1=\"72\" y1=\"62\" x2=\"192\" y2=\"62\" />\n",
       "  <line x1=\"76\" y1=\"66\" x2=\"196\" y2=\"66\" />\n",
       "  <line x1=\"80\" y1=\"70\" x2=\"200\" y2=\"70\" style=\"stroke-width:2\" />\n",
       "\n",
       "  <!-- Vertical lines -->\n",
       "  <line x1=\"10\" y1=\"0\" x2=\"80\" y2=\"70\" style=\"stroke-width:2\" />\n",
       "  <line x1=\"16\" y1=\"0\" x2=\"86\" y2=\"70\" />\n",
       "  <line x1=\"22\" y1=\"0\" x2=\"92\" y2=\"70\" />\n",
       "  <line x1=\"28\" y1=\"0\" x2=\"98\" y2=\"70\" />\n",
       "  <line x1=\"35\" y1=\"0\" x2=\"105\" y2=\"70\" />\n",
       "  <line x1=\"41\" y1=\"0\" x2=\"111\" y2=\"70\" />\n",
       "  <line x1=\"47\" y1=\"0\" x2=\"117\" y2=\"70\" />\n",
       "  <line x1=\"53\" y1=\"0\" x2=\"123\" y2=\"70\" />\n",
       "  <line x1=\"60\" y1=\"0\" x2=\"130\" y2=\"70\" />\n",
       "  <line x1=\"66\" y1=\"0\" x2=\"136\" y2=\"70\" />\n",
       "  <line x1=\"72\" y1=\"0\" x2=\"142\" y2=\"70\" />\n",
       "  <line x1=\"78\" y1=\"0\" x2=\"148\" y2=\"70\" />\n",
       "  <line x1=\"85\" y1=\"0\" x2=\"156\" y2=\"70\" />\n",
       "  <line x1=\"91\" y1=\"0\" x2=\"162\" y2=\"70\" />\n",
       "  <line x1=\"97\" y1=\"0\" x2=\"168\" y2=\"70\" />\n",
       "  <line x1=\"103\" y1=\"0\" x2=\"174\" y2=\"70\" />\n",
       "  <line x1=\"110\" y1=\"0\" x2=\"181\" y2=\"70\" />\n",
       "  <line x1=\"116\" y1=\"0\" x2=\"187\" y2=\"70\" />\n",
       "  <line x1=\"122\" y1=\"0\" x2=\"193\" y2=\"70\" />\n",
       "  <line x1=\"130\" y1=\"0\" x2=\"200\" y2=\"70\" style=\"stroke-width:2\" />\n",
       "\n",
       "  <!-- Colored Rectangle -->\n",
       "  <polygon points=\"10.0,0.0 130.0,0.0 200.58823529411765,70.58823529411765 80.58823529411765,70.58823529411765\" style=\"fill:#8B4903A0;stroke-width:0\"/>\n",
       "\n",
       "  <!-- Horizontal lines -->\n",
       "  <line x1=\"80\" y1=\"70\" x2=\"200\" y2=\"70\" style=\"stroke-width:2\" />\n",
       "  <line x1=\"80\" y1=\"76\" x2=\"200\" y2=\"76\" />\n",
       "  <line x1=\"80\" y1=\"82\" x2=\"200\" y2=\"82\" />\n",
       "  <line x1=\"80\" y1=\"88\" x2=\"200\" y2=\"88\" />\n",
       "  <line x1=\"80\" y1=\"95\" x2=\"200\" y2=\"95\" />\n",
       "  <line x1=\"80\" y1=\"101\" x2=\"200\" y2=\"101\" />\n",
       "  <line x1=\"80\" y1=\"107\" x2=\"200\" y2=\"107\" />\n",
       "  <line x1=\"80\" y1=\"113\" x2=\"200\" y2=\"113\" />\n",
       "  <line x1=\"80\" y1=\"120\" x2=\"200\" y2=\"120\" />\n",
       "  <line x1=\"80\" y1=\"126\" x2=\"200\" y2=\"126\" />\n",
       "  <line x1=\"80\" y1=\"132\" x2=\"200\" y2=\"132\" />\n",
       "  <line x1=\"80\" y1=\"138\" x2=\"200\" y2=\"138\" />\n",
       "  <line x1=\"80\" y1=\"146\" x2=\"200\" y2=\"146\" />\n",
       "  <line x1=\"80\" y1=\"152\" x2=\"200\" y2=\"152\" />\n",
       "  <line x1=\"80\" y1=\"158\" x2=\"200\" y2=\"158\" />\n",
       "  <line x1=\"80\" y1=\"164\" x2=\"200\" y2=\"164\" />\n",
       "  <line x1=\"80\" y1=\"171\" x2=\"200\" y2=\"171\" />\n",
       "  <line x1=\"80\" y1=\"177\" x2=\"200\" y2=\"177\" />\n",
       "  <line x1=\"80\" y1=\"183\" x2=\"200\" y2=\"183\" />\n",
       "  <line x1=\"80\" y1=\"190\" x2=\"200\" y2=\"190\" style=\"stroke-width:2\" />\n",
       "\n",
       "  <!-- Vertical lines -->\n",
       "  <line x1=\"80\" y1=\"70\" x2=\"80\" y2=\"190\" style=\"stroke-width:2\" />\n",
       "  <line x1=\"86\" y1=\"70\" x2=\"86\" y2=\"190\" />\n",
       "  <line x1=\"92\" y1=\"70\" x2=\"92\" y2=\"190\" />\n",
       "  <line x1=\"98\" y1=\"70\" x2=\"98\" y2=\"190\" />\n",
       "  <line x1=\"105\" y1=\"70\" x2=\"105\" y2=\"190\" />\n",
       "  <line x1=\"111\" y1=\"70\" x2=\"111\" y2=\"190\" />\n",
       "  <line x1=\"117\" y1=\"70\" x2=\"117\" y2=\"190\" />\n",
       "  <line x1=\"123\" y1=\"70\" x2=\"123\" y2=\"190\" />\n",
       "  <line x1=\"130\" y1=\"70\" x2=\"130\" y2=\"190\" />\n",
       "  <line x1=\"136\" y1=\"70\" x2=\"136\" y2=\"190\" />\n",
       "  <line x1=\"142\" y1=\"70\" x2=\"142\" y2=\"190\" />\n",
       "  <line x1=\"148\" y1=\"70\" x2=\"148\" y2=\"190\" />\n",
       "  <line x1=\"156\" y1=\"70\" x2=\"156\" y2=\"190\" />\n",
       "  <line x1=\"162\" y1=\"70\" x2=\"162\" y2=\"190\" />\n",
       "  <line x1=\"168\" y1=\"70\" x2=\"168\" y2=\"190\" />\n",
       "  <line x1=\"174\" y1=\"70\" x2=\"174\" y2=\"190\" />\n",
       "  <line x1=\"181\" y1=\"70\" x2=\"181\" y2=\"190\" />\n",
       "  <line x1=\"187\" y1=\"70\" x2=\"187\" y2=\"190\" />\n",
       "  <line x1=\"193\" y1=\"70\" x2=\"193\" y2=\"190\" />\n",
       "  <line x1=\"200\" y1=\"70\" x2=\"200\" y2=\"190\" style=\"stroke-width:2\" />\n",
       "\n",
       "  <!-- Colored Rectangle -->\n",
       "  <polygon points=\"80.58823529411765,70.58823529411765 200.58823529411765,70.58823529411765 200.58823529411765,190.58823529411765 80.58823529411765,190.58823529411765\" style=\"fill:#8B4903A0;stroke-width:0\"/>\n",
       "\n",
       "  <!-- Text -->\n",
       "  <text x=\"140.588235\" y=\"210.588235\" font-size=\"1.0rem\" font-weight=\"100\" text-anchor=\"middle\" >2000</text>\n",
       "  <text x=\"220.588235\" y=\"130.588235\" font-size=\"1.0rem\" font-weight=\"100\" text-anchor=\"middle\" transform=\"rotate(-90,220.588235,130.588235)\">2000</text>\n",
       "  <text x=\"35.294118\" y=\"175.294118\" font-size=\"1.0rem\" font-weight=\"100\" text-anchor=\"middle\" transform=\"rotate(45,35.294118,175.294118)\">2000</text>\n",
       "</svg>\n",
       "        </td>\n",
       "    </tr>\n",
       "</table>"
      ],
      "text/plain": [
       "dask.array<random_sample, shape=(2000, 2000, 2000), dtype=float64, chunksize=(20, 20, 20), chunktype=numpy.ndarray>"
      ]
     },
     "execution_count": 3,
     "metadata": {},
     "output_type": "execute_result"
    }
   ],
   "source": [
    "array_dask"
   ]
  },
  {
   "cell_type": "code",
   "execution_count": null,
   "id": "0e3e9204",
   "metadata": {},
   "outputs": [],
   "source": []
  }
 ],
 "metadata": {
  "kernelspec": {
   "display_name": "Python 3 (ipykernel)",
   "language": "python",
   "name": "python3"
  },
  "language_info": {
   "codemirror_mode": {
    "name": "ipython",
    "version": 3
   },
   "file_extension": ".py",
   "mimetype": "text/x-python",
   "name": "python",
   "nbconvert_exporter": "python",
   "pygments_lexer": "ipython3",
   "version": "3.10.8"
  },
  "vscode": {
   "interpreter": {
    "hash": "8a5edab282632443219e051e4ade2d1d5bbc671c781051bf1437897cbdfea0f1"
   }
  }
 },
 "nbformat": 4,
 "nbformat_minor": 5
}
