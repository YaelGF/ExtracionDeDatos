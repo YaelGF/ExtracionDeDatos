{
 "cells": [
  {
   "cell_type": "code",
   "execution_count": 2,
   "id": "fc081020",
   "metadata": {},
   "outputs": [],
   "source": [
    "import pandas as pd\n",
    "import numpy as np"
   ]
  },
  {
   "cell_type": "code",
   "execution_count": 3,
   "id": "65b55f84",
   "metadata": {},
   "outputs": [
    {
     "data": {
      "text/plain": [
       "'1.5.1'"
      ]
     },
     "execution_count": 3,
     "metadata": {},
     "output_type": "execute_result"
    }
   ],
   "source": [
    "pd.__version__"
   ]
  },
  {
   "cell_type": "code",
   "execution_count": 4,
   "id": "9e064505",
   "metadata": {},
   "outputs": [
    {
     "data": {
      "text/plain": [
       "'1.23.3'"
      ]
     },
     "execution_count": 4,
     "metadata": {},
     "output_type": "execute_result"
    }
   ],
   "source": [
    "np.__version__"
   ]
  },
  {
   "cell_type": "code",
   "execution_count": 25,
   "id": "85e7d45b",
   "metadata": {},
   "outputs": [
    {
     "data": {
      "text/html": [
       "<div>\n",
       "<style scoped>\n",
       "    .dataframe tbody tr th:only-of-type {\n",
       "        vertical-align: middle;\n",
       "    }\n",
       "\n",
       "    .dataframe tbody tr th {\n",
       "        vertical-align: top;\n",
       "    }\n",
       "\n",
       "    .dataframe thead th {\n",
       "        text-align: right;\n",
       "    }\n",
       "</style>\n",
       "<table border=\"1\" class=\"dataframe\">\n",
       "  <thead>\n",
       "    <tr style=\"text-align: right;\">\n",
       "      <th></th>\n",
       "      <th>1</th>\n",
       "    </tr>\n",
       "    <tr>\n",
       "      <th>0</th>\n",
       "      <th></th>\n",
       "    </tr>\n",
       "  </thead>\n",
       "  <tbody>\n",
       "    <tr>\n",
       "      <th>matricula</th>\n",
       "      <td>11111111</td>\n",
       "    </tr>\n",
       "    <tr>\n",
       "      <th>nombre</th>\n",
       "      <td>Alumno 1</td>\n",
       "    </tr>\n",
       "    <tr>\n",
       "      <th>grupo</th>\n",
       "      <td>TI11</td>\n",
       "    </tr>\n",
       "    <tr>\n",
       "      <th>Materia 1</th>\n",
       "      <td>1</td>\n",
       "    </tr>\n",
       "    <tr>\n",
       "      <th>Materia 2</th>\n",
       "      <td>8</td>\n",
       "    </tr>\n",
       "    <tr>\n",
       "      <th>Materia 3</th>\n",
       "      <td>1</td>\n",
       "    </tr>\n",
       "    <tr>\n",
       "      <th>Materia 4</th>\n",
       "      <td>7</td>\n",
       "    </tr>\n",
       "    <tr>\n",
       "      <th>Materia 5</th>\n",
       "      <td>2</td>\n",
       "    </tr>\n",
       "    <tr>\n",
       "      <th>Materia 5</th>\n",
       "      <td>2</td>\n",
       "    </tr>\n",
       "    <tr>\n",
       "      <th>estado</th>\n",
       "      <td>regular</td>\n",
       "    </tr>\n",
       "  </tbody>\n",
       "</table>\n",
       "</div>"
      ],
      "text/plain": [
       "                  1\n",
       "0                  \n",
       "matricula  11111111\n",
       "nombre     Alumno 1\n",
       "grupo          TI11\n",
       "Materia 1         1\n",
       "Materia 2         8\n",
       "Materia 3         1\n",
       "Materia 4         7\n",
       "Materia 5         2\n",
       "Materia 5         2\n",
       "estado      regular"
      ]
     },
     "execution_count": 25,
     "metadata": {},
     "output_type": "execute_result"
    }
   ],
   "source": [
    "file = pd.read_csv(\"calificaciones_v2.csv\", header=None, index_col=0)\n",
    "file.head(10)"
   ]
  },
  {
   "cell_type": "code",
   "execution_count": 26,
   "id": "b952c4f8",
   "metadata": {},
   "outputs": [
    {
     "data": {
      "text/html": [
       "<div>\n",
       "<style scoped>\n",
       "    .dataframe tbody tr th:only-of-type {\n",
       "        vertical-align: middle;\n",
       "    }\n",
       "\n",
       "    .dataframe tbody tr th {\n",
       "        vertical-align: top;\n",
       "    }\n",
       "\n",
       "    .dataframe thead th {\n",
       "        text-align: right;\n",
       "    }\n",
       "</style>\n",
       "<table border=\"1\" class=\"dataframe\">\n",
       "  <thead>\n",
       "    <tr style=\"text-align: right;\">\n",
       "      <th></th>\n",
       "      <th>1</th>\n",
       "    </tr>\n",
       "  </thead>\n",
       "  <tbody>\n",
       "    <tr>\n",
       "      <th>count</th>\n",
       "      <td>432</td>\n",
       "    </tr>\n",
       "    <tr>\n",
       "      <th>unique</th>\n",
       "      <td>113</td>\n",
       "    </tr>\n",
       "    <tr>\n",
       "      <th>top</th>\n",
       "      <td>regular</td>\n",
       "    </tr>\n",
       "    <tr>\n",
       "      <th>freq</th>\n",
       "      <td>47</td>\n",
       "    </tr>\n",
       "  </tbody>\n",
       "</table>\n",
       "</div>"
      ],
      "text/plain": [
       "              1\n",
       "count       432\n",
       "unique      113\n",
       "top     regular\n",
       "freq         47"
      ]
     },
     "execution_count": 26,
     "metadata": {},
     "output_type": "execute_result"
    }
   ],
   "source": [
    "file.describe()"
   ]
  },
  {
   "cell_type": "code",
   "execution_count": 27,
   "id": "3c43ee3b",
   "metadata": {},
   "outputs": [],
   "source": [
    "file_Transpose = file.T"
   ]
  },
  {
   "cell_type": "code",
   "execution_count": 28,
   "id": "cf2ceaed",
   "metadata": {},
   "outputs": [
    {
     "data": {
      "text/html": [
       "<div>\n",
       "<style scoped>\n",
       "    .dataframe tbody tr th:only-of-type {\n",
       "        vertical-align: middle;\n",
       "    }\n",
       "\n",
       "    .dataframe tbody tr th {\n",
       "        vertical-align: top;\n",
       "    }\n",
       "\n",
       "    .dataframe thead th {\n",
       "        text-align: right;\n",
       "    }\n",
       "</style>\n",
       "<table border=\"1\" class=\"dataframe\">\n",
       "  <thead>\n",
       "    <tr style=\"text-align: right;\">\n",
       "      <th></th>\n",
       "      <th>matricula</th>\n",
       "      <th>nombre</th>\n",
       "      <th>grupo</th>\n",
       "      <th>Materia 1</th>\n",
       "      <th>Materia 2</th>\n",
       "      <th>Materia 3</th>\n",
       "      <th>Materia 4</th>\n",
       "      <th>Materia 5</th>\n",
       "      <th>Materia 5</th>\n",
       "      <th>estado</th>\n",
       "      <th>...</th>\n",
       "      <th>matricula</th>\n",
       "      <th>nombre</th>\n",
       "      <th>grupo</th>\n",
       "      <th>Materia 1</th>\n",
       "      <th>Materia 2</th>\n",
       "      <th>Materia 3</th>\n",
       "      <th>Materia 4</th>\n",
       "      <th>Materia 5</th>\n",
       "      <th>Materia 6</th>\n",
       "      <th>estado</th>\n",
       "    </tr>\n",
       "  </thead>\n",
       "  <tbody>\n",
       "    <tr>\n",
       "      <th>1</th>\n",
       "      <td>11111111</td>\n",
       "      <td>Alumno 1</td>\n",
       "      <td>TI11</td>\n",
       "      <td>1</td>\n",
       "      <td>8</td>\n",
       "      <td>1</td>\n",
       "      <td>7</td>\n",
       "      <td>2</td>\n",
       "      <td>2</td>\n",
       "      <td>regular</td>\n",
       "      <td>...</td>\n",
       "      <td>11111158</td>\n",
       "      <td>Alumno 48</td>\n",
       "      <td>IDGS71</td>\n",
       "      <td>4</td>\n",
       "      <td>4</td>\n",
       "      <td>10</td>\n",
       "      <td>6</td>\n",
       "      <td>8</td>\n",
       "      <td>10</td>\n",
       "      <td>regular</td>\n",
       "    </tr>\n",
       "  </tbody>\n",
       "</table>\n",
       "<p>1 rows × 434 columns</p>\n",
       "</div>"
      ],
      "text/plain": [
       "0 matricula    nombre grupo Materia 1 Materia 2 Materia 3 Materia 4 Materia 5  \\\n",
       "1  11111111  Alumno 1  TI11         1         8         1         7         2   \n",
       "\n",
       "0 Materia 5   estado  ... matricula     nombre   grupo Materia 1 Materia 2  \\\n",
       "1         2  regular  ...  11111158  Alumno 48  IDGS71         4         4   \n",
       "\n",
       "0 Materia 3 Materia 4 Materia 5 Materia 6   estado  \n",
       "1        10         6         8        10  regular  \n",
       "\n",
       "[1 rows x 434 columns]"
      ]
     },
     "execution_count": 28,
     "metadata": {},
     "output_type": "execute_result"
    }
   ],
   "source": [
    "file_Transpose"
   ]
  },
  {
   "cell_type": "code",
   "execution_count": 29,
   "id": "96047345",
   "metadata": {},
   "outputs": [
    {
     "data": {
      "text/html": [
       "<div>\n",
       "<style scoped>\n",
       "    .dataframe tbody tr th:only-of-type {\n",
       "        vertical-align: middle;\n",
       "    }\n",
       "\n",
       "    .dataframe tbody tr th {\n",
       "        vertical-align: top;\n",
       "    }\n",
       "\n",
       "    .dataframe thead th {\n",
       "        text-align: right;\n",
       "    }\n",
       "</style>\n",
       "<table border=\"1\" class=\"dataframe\">\n",
       "  <thead>\n",
       "    <tr style=\"text-align: right;\">\n",
       "      <th></th>\n",
       "      <th>matricula</th>\n",
       "      <th>nombre</th>\n",
       "      <th>grupo</th>\n",
       "      <th>Materia 1</th>\n",
       "      <th>Materia 2</th>\n",
       "      <th>Materia 3</th>\n",
       "      <th>Materia 4</th>\n",
       "      <th>Materia 5</th>\n",
       "      <th>Materia 5</th>\n",
       "      <th>estado</th>\n",
       "      <th>...</th>\n",
       "      <th>matricula</th>\n",
       "      <th>nombre</th>\n",
       "      <th>grupo</th>\n",
       "      <th>Materia 1</th>\n",
       "      <th>Materia 2</th>\n",
       "      <th>Materia 3</th>\n",
       "      <th>Materia 4</th>\n",
       "      <th>Materia 5</th>\n",
       "      <th>Materia 6</th>\n",
       "      <th>estado</th>\n",
       "    </tr>\n",
       "  </thead>\n",
       "  <tbody>\n",
       "    <tr>\n",
       "      <th>count</th>\n",
       "      <td>1</td>\n",
       "      <td>1</td>\n",
       "      <td>1</td>\n",
       "      <td>1</td>\n",
       "      <td>1</td>\n",
       "      <td>1</td>\n",
       "      <td>1</td>\n",
       "      <td>1</td>\n",
       "      <td>1</td>\n",
       "      <td>1</td>\n",
       "      <td>...</td>\n",
       "      <td>1</td>\n",
       "      <td>1</td>\n",
       "      <td>1</td>\n",
       "      <td>1</td>\n",
       "      <td>1</td>\n",
       "      <td>1</td>\n",
       "      <td>1</td>\n",
       "      <td>1</td>\n",
       "      <td>1</td>\n",
       "      <td>1</td>\n",
       "    </tr>\n",
       "    <tr>\n",
       "      <th>unique</th>\n",
       "      <td>1</td>\n",
       "      <td>1</td>\n",
       "      <td>1</td>\n",
       "      <td>1</td>\n",
       "      <td>1</td>\n",
       "      <td>1</td>\n",
       "      <td>1</td>\n",
       "      <td>1</td>\n",
       "      <td>1</td>\n",
       "      <td>1</td>\n",
       "      <td>...</td>\n",
       "      <td>1</td>\n",
       "      <td>1</td>\n",
       "      <td>1</td>\n",
       "      <td>1</td>\n",
       "      <td>1</td>\n",
       "      <td>1</td>\n",
       "      <td>1</td>\n",
       "      <td>1</td>\n",
       "      <td>1</td>\n",
       "      <td>1</td>\n",
       "    </tr>\n",
       "    <tr>\n",
       "      <th>top</th>\n",
       "      <td>11111111</td>\n",
       "      <td>Alumno 1</td>\n",
       "      <td>TI11</td>\n",
       "      <td>1</td>\n",
       "      <td>8</td>\n",
       "      <td>1</td>\n",
       "      <td>7</td>\n",
       "      <td>2</td>\n",
       "      <td>2</td>\n",
       "      <td>regular</td>\n",
       "      <td>...</td>\n",
       "      <td>11111158</td>\n",
       "      <td>Alumno 48</td>\n",
       "      <td>IDGS71</td>\n",
       "      <td>4</td>\n",
       "      <td>4</td>\n",
       "      <td>10</td>\n",
       "      <td>6</td>\n",
       "      <td>8</td>\n",
       "      <td>10</td>\n",
       "      <td>regular</td>\n",
       "    </tr>\n",
       "    <tr>\n",
       "      <th>freq</th>\n",
       "      <td>1</td>\n",
       "      <td>1</td>\n",
       "      <td>1</td>\n",
       "      <td>1</td>\n",
       "      <td>1</td>\n",
       "      <td>1</td>\n",
       "      <td>1</td>\n",
       "      <td>1</td>\n",
       "      <td>1</td>\n",
       "      <td>1</td>\n",
       "      <td>...</td>\n",
       "      <td>1</td>\n",
       "      <td>1</td>\n",
       "      <td>1</td>\n",
       "      <td>1</td>\n",
       "      <td>1</td>\n",
       "      <td>1</td>\n",
       "      <td>1</td>\n",
       "      <td>1</td>\n",
       "      <td>1</td>\n",
       "      <td>1</td>\n",
       "    </tr>\n",
       "  </tbody>\n",
       "</table>\n",
       "<p>4 rows × 434 columns</p>\n",
       "</div>"
      ],
      "text/plain": [
       "0      matricula    nombre grupo Materia 1 Materia 2 Materia 3 Materia 4  \\\n",
       "count          1         1     1         1         1         1         1   \n",
       "unique         1         1     1         1         1         1         1   \n",
       "top     11111111  Alumno 1  TI11         1         8         1         7   \n",
       "freq           1         1     1         1         1         1         1   \n",
       "\n",
       "0      Materia 5 Materia 5   estado  ... matricula     nombre   grupo  \\\n",
       "count          1         1        1  ...         1          1       1   \n",
       "unique         1         1        1  ...         1          1       1   \n",
       "top            2         2  regular  ...  11111158  Alumno 48  IDGS71   \n",
       "freq           1         1        1  ...         1          1       1   \n",
       "\n",
       "0      Materia 1 Materia 2 Materia 3 Materia 4 Materia 5 Materia 6   estado  \n",
       "count          1         1         1         1         1         1        1  \n",
       "unique         1         1         1         1         1         1        1  \n",
       "top            4         4        10         6         8        10  regular  \n",
       "freq           1         1         1         1         1         1        1  \n",
       "\n",
       "[4 rows x 434 columns]"
      ]
     },
     "execution_count": 29,
     "metadata": {},
     "output_type": "execute_result"
    }
   ],
   "source": [
    "file_Transpose.describe()"
   ]
  },
  {
   "cell_type": "code",
   "execution_count": 32,
   "id": "a14fb2ce",
   "metadata": {},
   "outputs": [
    {
     "data": {
      "text/plain": [
       "1    113\n",
       "dtype: int64"
      ]
     },
     "execution_count": 32,
     "metadata": {},
     "output_type": "execute_result"
    }
   ],
   "source": [
    "file.nunique(0)"
   ]
  },
  {
   "cell_type": "code",
   "execution_count": 43,
   "id": "cfe6f5df",
   "metadata": {},
   "outputs": [
    {
     "data": {
      "text/plain": [
       "Index(['matricula', 'nombre', 'grupo', 'Materia 1', 'Materia 2', 'Materia 3',\n",
       "       'Materia 4', 'Materia 5', 'Materia 5', 'estado',\n",
       "       ...\n",
       "       'matricula', 'nombre', 'grupo', 'Materia 1', 'Materia 2', 'Materia 3',\n",
       "       'Materia 4', 'Materia 5', 'Materia 6', 'estado'],\n",
       "      dtype='object', name=0, length=434)"
      ]
     },
     "execution_count": 43,
     "metadata": {},
     "output_type": "execute_result"
    }
   ],
   "source": [
    "file.index"
   ]
  },
  {
   "cell_type": "code",
   "execution_count": 39,
   "id": "f83c48ba",
   "metadata": {},
   "outputs": [
    {
     "data": {
      "text/plain": [
       "matricula    433\n",
       "11111111     431\n",
       "dtype: int64"
      ]
     },
     "execution_count": 39,
     "metadata": {},
     "output_type": "execute_result"
    }
   ],
   "source": [
    "file."
   ]
  }
 ],
 "metadata": {
  "kernelspec": {
   "display_name": "Python 3",
   "language": "python",
   "name": "python3"
  },
  "language_info": {
   "codemirror_mode": {
    "name": "ipython",
    "version": 3
   },
   "file_extension": ".py",
   "mimetype": "text/x-python",
   "name": "python",
   "nbconvert_exporter": "python",
   "pygments_lexer": "ipython3",
   "version": "3.10.7 (main, Sep  6 2022, 21:22:27) [GCC 12.2.0]"
  },
  "vscode": {
   "interpreter": {
    "hash": "e7370f93d1d0cde622a1f8e1c04877d8463912d04d973331ad4851f04de6915a"
   }
  }
 },
 "nbformat": 4,
 "nbformat_minor": 5
}
