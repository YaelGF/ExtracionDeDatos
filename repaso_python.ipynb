{
  "nbformat": 4,
  "nbformat_minor": 0,
  "metadata": {
    "colab": {
      "provenance": [],
      "collapsed_sections": []
    },
    "kernelspec": {
      "name": "python3",
      "display_name": "Python 3"
    },
    "language_info": {
      "name": "python"
    }
  },
  "cells": [
    {
      "cell_type": "markdown",
      "source": [
        "# Repaso de python"
      ],
      "metadata": {
        "id": "WrTfdjpFeoPI"
      }
    },
    {
      "cell_type": "markdown",
      "source": [
        "## Ejecutar celda\n",
        "\n",
        "ctrl + Enter"
      ],
      "metadata": {
        "id": "UQ5lRzQJfPN4"
      }
    },
    {
      "cell_type": "code",
      "execution_count": 1,
      "metadata": {
        "colab": {
          "base_uri": "https://localhost:8080/"
        },
        "id": "lmYEtprOejns",
        "outputId": "fabed495-640b-41d7-fd78-0a5d8ca7507c"
      },
      "outputs": [
        {
          "output_type": "execute_result",
          "data": {
            "text/plain": [
              "18"
            ]
          },
          "metadata": {},
          "execution_count": 1
        }
      ],
      "source": [
        "10 + 8"
      ]
    },
    {
      "cell_type": "markdown",
      "source": [
        "## Ejecutar y crear una celda\n",
        "\n",
        "Shift + Enter\n"
      ],
      "metadata": {
        "id": "Mp_w39xSgUVP"
      }
    },
    {
      "cell_type": "code",
      "source": [
        "variable = 78"
      ],
      "metadata": {
        "id": "qXHZzX9rfAsA"
      },
      "execution_count": null,
      "outputs": []
    },
    {
      "cell_type": "markdown",
      "source": [
        "## Tabla\n",
        "\n",
        "|No||Titulo|\n",
        "|--||--|\n",
        "|1.||Fila 1|\n",
        "|2.||Fila2|"
      ],
      "metadata": {
        "id": "RjjM9MykgWUC"
      }
    },
    {
      "cell_type": "code",
      "source": [],
      "metadata": {
        "id": "T0A6to3ugery"
      },
      "execution_count": null,
      "outputs": []
    }
  ]
}